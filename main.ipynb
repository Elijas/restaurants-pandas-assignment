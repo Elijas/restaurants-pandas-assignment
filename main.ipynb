{
 "cells": [
  {
   "cell_type": "code",
   "execution_count": 1,
   "metadata": {},
   "outputs": [],
   "source": [
    "import datetime\n",
    "\n",
    "import pandas as pd"
   ]
  },
  {
   "cell_type": "code",
   "execution_count": 2,
   "metadata": {},
   "outputs": [
    {
     "data": {
      "text/plain": [
       "5805"
      ]
     },
     "execution_count": 2,
     "metadata": {},
     "output_type": "execute_result"
    }
   ],
   "source": [
    "ratings = pd.read_csv(r'data/ratings.csv')\n",
    "ratings.set_index(['userID', 'placeID'])\n",
    "\n",
    "ratings.size"
   ]
  },
  {
   "cell_type": "code",
   "execution_count": 3,
   "metadata": {},
   "outputs": [
    {
     "name": "stdout",
     "output_type": "stream",
     "text": [
      "2730\n"
     ]
    },
    {
     "data": {
      "text/plain": [
       "SLP                50\n",
       "Morelos            19\n",
       "?                  18\n",
       "San Luis Potosi    14\n",
       "tamaulipas          9\n",
       "Tamaulipas          7\n",
       "san luis potosi     4\n",
       "mexico              2\n",
       "S.L.P.              2\n",
       "slp                 2\n",
       "morelos             1\n",
       "san luis potos      1\n",
       "s.l.p.              1\n",
       "Name: state, dtype: int64"
      ]
     },
     "execution_count": 3,
     "metadata": {},
     "output_type": "execute_result"
    }
   ],
   "source": [
    "restaurants = pd.read_csv(r'data/restaurants.csv')\n",
    "restaurants.set_index('placeID')\n",
    "\n",
    "print(restaurants.size)\n",
    "restaurants.state.value_counts()"
   ]
  },
  {
   "cell_type": "code",
   "execution_count": 4,
   "metadata": {},
   "outputs": [
    {
     "name": "stdout",
     "output_type": "stream",
     "text": [
      "2760\n"
     ]
    }
   ],
   "source": [
    "users = pd.read_csv(r'data/users.csv')\n",
    "users.set_index('userID')\n",
    "current_year = datetime.datetime.now().year\n",
    "users['age'] = current_year - users.birth_year\n",
    "\n",
    "print(users.size)"
   ]
  },
  {
   "cell_type": "code",
   "execution_count": 5,
   "metadata": {},
   "outputs": [
    {
     "data": {
      "text/plain": [
       "SLP                50\n",
       "San Luis Potosi    14\n",
       "san luis potosi     4\n",
       "S.L.P.              2\n",
       "slp                 2\n",
       "s.l.p.              1\n",
       "Name: state, dtype: int64"
      ]
     },
     "execution_count": 5,
     "metadata": {},
     "output_type": "execute_result"
    }
   ],
   "source": [
    "def is_in_slp_state(restaurant):\n",
    "    normalized_state_name = restaurants.state.str.lower().str.replace('[^a-zA-Z]', '')\n",
    "    return normalized_state_name.isin(['slp', 'sanluispotosi'])\n",
    "\n",
    "\n",
    "target_restaurants = restaurants[is_in_slp_state(restaurants)]\n",
    "target_restaurants.state.value_counts()"
   ]
  },
  {
   "cell_type": "code",
   "execution_count": 6,
   "metadata": {},
   "outputs": [
    {
     "data": {
      "text/plain": [
       "30    30\n",
       "32    10\n",
       "31     9\n",
       "37     3\n",
       "36     3\n",
       "34     3\n",
       "33     3\n",
       "35     2\n",
       "40     1\n",
       "38     1\n",
       "Name: age, dtype: int64"
      ]
     },
     "execution_count": 6,
     "metadata": {},
     "output_type": "execute_result"
    }
   ],
   "source": [
    "target_users = users[(30 <= users.age) & (users.age <= 40)]\n",
    "target_users.age.value_counts()"
   ]
  },
  {
   "cell_type": "code",
   "execution_count": 7,
   "metadata": {},
   "outputs": [
    {
     "name": "stdout",
     "output_type": "stream",
     "text": [
      "1505\n"
     ]
    }
   ],
   "source": [
    "target_ratings = ratings[ratings.userID.isin(target_users.userID) & ratings.placeID.isin(target_restaurants.placeID)]\n",
    "print(target_ratings.size)"
   ]
  },
  {
   "cell_type": "code",
   "execution_count": 8,
   "metadata": {},
   "outputs": [
    {
     "name": "stdout",
     "output_type": "stream",
     "text": [
      "73 <class 'pandas.core.frame.DataFrame'>\n"
     ]
    },
    {
     "data": {
      "text/html": [
       "<div>\n",
       "<style scoped>\n",
       "    .dataframe tbody tr th:only-of-type {\n",
       "        vertical-align: middle;\n",
       "    }\n",
       "\n",
       "    .dataframe tbody tr th {\n",
       "        vertical-align: top;\n",
       "    }\n",
       "\n",
       "    .dataframe thead th {\n",
       "        text-align: right;\n",
       "    }\n",
       "</style>\n",
       "<table border=\"1\" class=\"dataframe\">\n",
       "  <thead>\n",
       "    <tr style=\"text-align: right;\">\n",
       "      <th></th>\n",
       "      <th>name</th>\n",
       "    </tr>\n",
       "    <tr>\n",
       "      <th>placeID</th>\n",
       "      <th></th>\n",
       "    </tr>\n",
       "  </thead>\n",
       "  <tbody>\n",
       "    <tr>\n",
       "      <th>132825</th>\n",
       "      <td>puesto de tacos</td>\n",
       "    </tr>\n",
       "    <tr>\n",
       "      <th>135106</th>\n",
       "      <td>El Rinc�n de San Francisco</td>\n",
       "    </tr>\n",
       "    <tr>\n",
       "      <th>135040</th>\n",
       "      <td>Restaurant los Compadres</td>\n",
       "    </tr>\n",
       "    <tr>\n",
       "      <th>135082</th>\n",
       "      <td>la Estrella de Dimas</td>\n",
       "    </tr>\n",
       "    <tr>\n",
       "      <th>135070</th>\n",
       "      <td>Restaurante 75</td>\n",
       "    </tr>\n",
       "  </tbody>\n",
       "</table>\n",
       "</div>"
      ],
      "text/plain": [
       "                               name\n",
       "placeID                            \n",
       "132825              puesto de tacos\n",
       "135106   El Rinc�n de San Francisco\n",
       "135040     Restaurant los Compadres\n",
       "135082         la Estrella de Dimas\n",
       "135070               Restaurante 75"
      ]
     },
     "execution_count": 8,
     "metadata": {},
     "output_type": "execute_result"
    }
   ],
   "source": [
    "name_by_placeID = target_restaurants[['placeID','name']].set_index('placeID')\n",
    "print(name_by_placeID.size, type(name_by_placeID))\n",
    "name_by_placeID.head()"
   ]
  },
  {
   "cell_type": "code",
   "execution_count": 9,
   "metadata": {},
   "outputs": [
    {
     "name": "stdout",
     "output_type": "stream",
     "text": [
      "73 <class 'pandas.core.frame.DataFrame'>\n"
     ]
    },
    {
     "data": {
      "text/html": [
       "<div>\n",
       "<style scoped>\n",
       "    .dataframe tbody tr th:only-of-type {\n",
       "        vertical-align: middle;\n",
       "    }\n",
       "\n",
       "    .dataframe tbody tr th {\n",
       "        vertical-align: top;\n",
       "    }\n",
       "\n",
       "    .dataframe thead th {\n",
       "        text-align: right;\n",
       "    }\n",
       "</style>\n",
       "<table border=\"1\" class=\"dataframe\">\n",
       "  <thead>\n",
       "    <tr style=\"text-align: right;\">\n",
       "      <th></th>\n",
       "      <th>rating</th>\n",
       "    </tr>\n",
       "    <tr>\n",
       "      <th>placeID</th>\n",
       "      <th></th>\n",
       "    </tr>\n",
       "  </thead>\n",
       "  <tbody>\n",
       "    <tr>\n",
       "      <th>132572</th>\n",
       "      <td>1.125000</td>\n",
       "    </tr>\n",
       "    <tr>\n",
       "      <th>132723</th>\n",
       "      <td>1.833333</td>\n",
       "    </tr>\n",
       "    <tr>\n",
       "      <th>132754</th>\n",
       "      <td>2.000000</td>\n",
       "    </tr>\n",
       "    <tr>\n",
       "      <th>132755</th>\n",
       "      <td>2.000000</td>\n",
       "    </tr>\n",
       "    <tr>\n",
       "      <th>132825</th>\n",
       "      <td>1.384615</td>\n",
       "    </tr>\n",
       "  </tbody>\n",
       "</table>\n",
       "</div>"
      ],
      "text/plain": [
       "           rating\n",
       "placeID          \n",
       "132572   1.125000\n",
       "132723   1.833333\n",
       "132754   2.000000\n",
       "132755   2.000000\n",
       "132825   1.384615"
      ]
     },
     "execution_count": 9,
     "metadata": {},
     "output_type": "execute_result"
    }
   ],
   "source": [
    "rating_mean_by_placeID = target_ratings[['placeID','rating']].groupby('placeID').mean()\n",
    "print(rating_mean_by_placeID.size, type(rating_mean_by_placeID))\n",
    "rating_mean_by_placeID.head()"
   ]
  },
  {
   "cell_type": "code",
   "execution_count": 10,
   "metadata": {},
   "outputs": [
    {
     "name": "stdout",
     "output_type": "stream",
     "text": [
      "73 <class 'pandas.core.frame.DataFrame'>\n"
     ]
    },
    {
     "data": {
      "text/html": [
       "<div>\n",
       "<style scoped>\n",
       "    .dataframe tbody tr th:only-of-type {\n",
       "        vertical-align: middle;\n",
       "    }\n",
       "\n",
       "    .dataframe tbody tr th {\n",
       "        vertical-align: top;\n",
       "    }\n",
       "\n",
       "    .dataframe thead th {\n",
       "        text-align: right;\n",
       "    }\n",
       "</style>\n",
       "<table border=\"1\" class=\"dataframe\">\n",
       "  <thead>\n",
       "    <tr style=\"text-align: right;\">\n",
       "      <th></th>\n",
       "      <th>count</th>\n",
       "    </tr>\n",
       "    <tr>\n",
       "      <th>placeID</th>\n",
       "      <th></th>\n",
       "    </tr>\n",
       "  </thead>\n",
       "  <tbody>\n",
       "    <tr>\n",
       "      <th>132572</th>\n",
       "      <td>8</td>\n",
       "    </tr>\n",
       "    <tr>\n",
       "      <th>132723</th>\n",
       "      <td>6</td>\n",
       "    </tr>\n",
       "    <tr>\n",
       "      <th>132754</th>\n",
       "      <td>2</td>\n",
       "    </tr>\n",
       "    <tr>\n",
       "      <th>132755</th>\n",
       "      <td>4</td>\n",
       "    </tr>\n",
       "    <tr>\n",
       "      <th>132825</th>\n",
       "      <td>13</td>\n",
       "    </tr>\n",
       "  </tbody>\n",
       "</table>\n",
       "</div>"
      ],
      "text/plain": [
       "         count\n",
       "placeID       \n",
       "132572       8\n",
       "132723       6\n",
       "132754       2\n",
       "132755       4\n",
       "132825      13"
      ]
     },
     "execution_count": 10,
     "metadata": {},
     "output_type": "execute_result"
    }
   ],
   "source": [
    "user_count_by_placeID = target_ratings.groupby('placeID')['userID'].nunique()\n",
    "user_count_by_placeID = pd.DataFrame({'placeID': user_count_by_placeID.index, \n",
    "                                      'count': user_count_by_placeID.values}).set_index('placeID')\n",
    "print(user_count_by_placeID.size, type(user_count_by_placeID))\n",
    "user_count_by_placeID.head()"
   ]
  },
  {
   "cell_type": "code",
   "execution_count": 11,
   "metadata": {
    "scrolled": true
   },
   "outputs": [
    {
     "data": {
      "text/html": [
       "<div>\n",
       "<style scoped>\n",
       "    .dataframe tbody tr th:only-of-type {\n",
       "        vertical-align: middle;\n",
       "    }\n",
       "\n",
       "    .dataframe tbody tr th {\n",
       "        vertical-align: top;\n",
       "    }\n",
       "\n",
       "    .dataframe thead th {\n",
       "        text-align: right;\n",
       "    }\n",
       "</style>\n",
       "<table border=\"1\" class=\"dataframe\">\n",
       "  <thead>\n",
       "    <tr style=\"text-align: right;\">\n",
       "      <th></th>\n",
       "      <th>name</th>\n",
       "      <th>mean</th>\n",
       "      <th>count</th>\n",
       "    </tr>\n",
       "    <tr>\n",
       "      <th>placeID</th>\n",
       "      <th></th>\n",
       "      <th></th>\n",
       "      <th></th>\n",
       "    </tr>\n",
       "  </thead>\n",
       "  <tbody>\n",
       "    <tr>\n",
       "      <th>132755</th>\n",
       "      <td>La Estrella de Dimas</td>\n",
       "      <td>2.0</td>\n",
       "      <td>4</td>\n",
       "    </tr>\n",
       "    <tr>\n",
       "      <th>135034</th>\n",
       "      <td>Michiko Restaurant Japones</td>\n",
       "      <td>2.0</td>\n",
       "      <td>3</td>\n",
       "    </tr>\n",
       "    <tr>\n",
       "      <th>132754</th>\n",
       "      <td>Cabana Huasteca</td>\n",
       "      <td>2.0</td>\n",
       "      <td>2</td>\n",
       "    </tr>\n",
       "    <tr>\n",
       "      <th>135074</th>\n",
       "      <td>Restaurante la Parroquia Potosina</td>\n",
       "      <td>2.0</td>\n",
       "      <td>2</td>\n",
       "    </tr>\n",
       "    <tr>\n",
       "      <th>132854</th>\n",
       "      <td>Sirlone</td>\n",
       "      <td>2.0</td>\n",
       "      <td>2</td>\n",
       "    </tr>\n",
       "  </tbody>\n",
       "</table>\n",
       "</div>"
      ],
      "text/plain": [
       "                                      name  mean  count\n",
       "placeID                                                \n",
       "132755                La Estrella de Dimas   2.0      4\n",
       "135034          Michiko Restaurant Japones   2.0      3\n",
       "132754                     Cabana Huasteca   2.0      2\n",
       "135074   Restaurante la Parroquia Potosina   2.0      2\n",
       "132854                             Sirlone   2.0      2"
      ]
     },
     "execution_count": 11,
     "metadata": {},
     "output_type": "execute_result"
    }
   ],
   "source": [
    "output_df = name_by_placeID.join(rating_mean_by_placeID).join(user_count_by_placeID)\n",
    "output_df.rename(columns={'rating': 'mean'}, inplace=True)\n",
    "output_df = output_df.sort_values(['mean', 'count', 'name'], ascending=[False, False, True])\n",
    "output_df.head()"
   ]
  },
  {
   "cell_type": "code",
   "execution_count": 12,
   "metadata": {},
   "outputs": [],
   "source": [
    "output_df.to_csv(r'data/rez.csv', index=False)"
   ]
  },
  {
   "cell_type": "code",
   "execution_count": 13,
   "metadata": {},
   "outputs": [
    {
     "name": "stdout",
     "output_type": "stream",
     "text": [
      "Test is passed\n"
     ]
    }
   ],
   "source": [
    "with open(r'data/rez.csv', 'r') as f1:\n",
    "    with open('data/expected_output.csv','r') as f2:\n",
    "        assert f1.readlines() == f2.readlines()\n",
    "        print(\"Test is passed\")"
   ]
  }
 ],
 "metadata": {
  "kernelspec": {
   "display_name": "Python 3",
   "language": "python",
   "name": "python3"
  },
  "language_info": {
   "codemirror_mode": {
    "name": "ipython",
    "version": 3
   },
   "file_extension": ".py",
   "mimetype": "text/x-python",
   "name": "python",
   "nbconvert_exporter": "python",
   "pygments_lexer": "ipython3",
   "version": "3.7.2"
  }
 },
 "nbformat": 4,
 "nbformat_minor": 2
}
